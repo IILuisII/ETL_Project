{
 "cells": [
  {
   "cell_type": "code",
   "execution_count": 34,
   "metadata": {},
   "outputs": [],
   "source": [
    "# Dependencies\n",
    "from bs4 import BeautifulSoup\n",
    "import requests\n",
    "#import pymongo\n",
    "import pandas as pd\n",
    "from splinter import Browser\n",
    "from datetime import datetime, timedelta"
   ]
  },
  {
   "cell_type": "code",
   "execution_count": 35,
   "metadata": {},
   "outputs": [],
   "source": [
    "url = 'https://www.cnbc.com/'"
   ]
  },
  {
   "cell_type": "code",
   "execution_count": 36,
   "metadata": {},
   "outputs": [
    {
     "data": {
      "text/plain": [
       "200"
      ]
     },
     "execution_count": 36,
     "metadata": {},
     "output_type": "execute_result"
    }
   ],
   "source": [
    "response = requests.get(url)\n",
    "response.status_code"
   ]
  },
  {
   "cell_type": "code",
   "execution_count": 37,
   "metadata": {},
   "outputs": [
    {
     "data": {
      "text/plain": [
       "'<!DOCTYPE html><html lang=\"en\" prefix=\"og=https://'"
      ]
     },
     "execution_count": 37,
     "metadata": {},
     "output_type": "execute_result"
    }
   ],
   "source": [
    "html = response.text\n",
    "html[0:50]"
   ]
  },
  {
   "cell_type": "code",
   "execution_count": 38,
   "metadata": {},
   "outputs": [],
   "source": [
    "# SOUPIFY\n",
    "soup = BeautifulSoup(html, \"lxml\")\n",
    "#print(soup.prettify())"
   ]
  },
  {
   "cell_type": "code",
   "execution_count": 39,
   "metadata": {},
   "outputs": [],
   "source": [
    "news = soup.find_all(class_=\"LatestNews-newsFeed\")"
   ]
  },
  {
   "cell_type": "code",
   "execution_count": 57,
   "metadata": {},
   "outputs": [],
   "source": [
    "#grab all articles (from class)\n",
    "cnbc = soup.find('a',attrs={'class':'branding-menu-logo'})['href']\n",
    "title = soup.find_all(class_=\"LatestNews-headline\")\n",
    "time = soup.find_all(class_=\"LatestNews-timestamp\")\n",
    "href = soup.find(class_=\"LatestNews-newsFeed\")"
   ]
  },
  {
   "cell_type": "code",
   "execution_count": 58,
   "metadata": {},
   "outputs": [
    {
     "data": {
      "text/plain": [
       "'https://www.cnbc.com/2020/06/22/mlb-players-union-rejects-latest-league-proposal-to-start-2020-season-delayed-by-covid-19.html'"
      ]
     },
     "execution_count": 58,
     "metadata": {},
     "output_type": "execute_result"
    }
   ],
   "source": [
    "href.a.get('href')"
   ]
  },
  {
   "cell_type": "code",
   "execution_count": 42,
   "metadata": {},
   "outputs": [
    {
     "data": {
      "text/plain": [
       "<div class=\"LatestNews-newsFeed\" id=\"Homepage-latestNews-7-0\"><div class=\"LatestNews-articleVisitedIndicatorSpace\"></div><div class=\"LatestNews-newsFeedInner\"><div class=\"LatestNews-timestamp\">14 Min Ago</div><div class=\"LatestNews-headline\"><a href=\"https://www.cnbc.com/2020/06/22/mlb-players-union-rejects-latest-league-proposal-to-start-2020-season-delayed-by-covid-19.html\" title=\"\">MLB players union rejects latest league proposal to start 2020 season delayed by Covid-19<!-- --> </a></div></div><hr class=\"LatestNews-divider\"/></div>"
      ]
     },
     "execution_count": 42,
     "metadata": {},
     "output_type": "execute_result"
    }
   ],
   "source": [
    "href"
   ]
  },
  {
   "cell_type": "code",
   "execution_count": 43,
   "metadata": {},
   "outputs": [
    {
     "data": {
      "text/plain": [
       "'www.cnbc.com'"
      ]
     },
     "execution_count": 43,
     "metadata": {},
     "output_type": "execute_result"
    }
   ],
   "source": [
    "cnbc = cnbc.replace(\"/\",\"\");\n",
    "cnbc"
   ]
  },
  {
   "cell_type": "code",
   "execution_count": 44,
   "metadata": {},
   "outputs": [
    {
     "data": {
      "text/plain": [
       "30"
      ]
     },
     "execution_count": 44,
     "metadata": {},
     "output_type": "execute_result"
    }
   ],
   "source": [
    "len(time)"
   ]
  },
  {
   "cell_type": "code",
   "execution_count": 45,
   "metadata": {},
   "outputs": [
    {
     "data": {
      "text/plain": [
       "'MLB players union rejects latest league proposal to start 2020 season delayed by Covid-19 '"
      ]
     },
     "execution_count": 45,
     "metadata": {},
     "output_type": "execute_result"
    }
   ],
   "source": [
    "title[0].text"
   ]
  },
  {
   "cell_type": "code",
   "execution_count": 46,
   "metadata": {},
   "outputs": [
    {
     "data": {
      "text/plain": [
       "'14 Min Ago'"
      ]
     },
     "execution_count": 46,
     "metadata": {},
     "output_type": "execute_result"
    }
   ],
   "source": [
    "time[0].text"
   ]
  },
  {
   "cell_type": "code",
   "execution_count": 47,
   "metadata": {},
   "outputs": [],
   "source": [
    "# create lists\n",
    "headlines = []\n",
    "datetimes = []\n",
    "links = []"
   ]
  },
  {
   "cell_type": "code",
   "execution_count": 52,
   "metadata": {},
   "outputs": [],
   "source": [
    "for article in news:\n",
    "    headline = article.find(class_=\"LatestNews-headline\").text      \n",
    "    datePub = article.find(class_=\"LatestNews-timestamp\").text\n",
    "    link = href.a.get('href')\n",
    "    \n",
    "    headlines.append(headline)\n",
    "    datetimes.append(datePub)\n",
    "    links.append(link)"
   ]
  },
  {
   "cell_type": "code",
   "execution_count": 53,
   "metadata": {},
   "outputs": [],
   "source": [
    "#Make dataframe\n",
    "df = pd.DataFrame()\n",
    "\n",
    "df[\"Headline\"] = headlines\n",
    "df[\"Published\"] = datetimes\n",
    "df[\"News URL\"] = links\n",
    "df[\"Main URL\"] = cnbc"
   ]
  },
  {
   "cell_type": "code",
   "execution_count": 54,
   "metadata": {},
   "outputs": [
    {
     "data": {
      "text/html": [
       "<div>\n",
       "<style scoped>\n",
       "    .dataframe tbody tr th:only-of-type {\n",
       "        vertical-align: middle;\n",
       "    }\n",
       "\n",
       "    .dataframe tbody tr th {\n",
       "        vertical-align: top;\n",
       "    }\n",
       "\n",
       "    .dataframe thead th {\n",
       "        text-align: right;\n",
       "    }\n",
       "</style>\n",
       "<table border=\"1\" class=\"dataframe\">\n",
       "  <thead>\n",
       "    <tr style=\"text-align: right;\">\n",
       "      <th></th>\n",
       "      <th>Headline</th>\n",
       "      <th>Published</th>\n",
       "      <th>News URL</th>\n",
       "      <th>Main URL</th>\n",
       "    </tr>\n",
       "  </thead>\n",
       "  <tbody>\n",
       "    <tr>\n",
       "      <th>0</th>\n",
       "      <td>MLB players union rejects latest league propos...</td>\n",
       "      <td>14 Min Ago</td>\n",
       "      <td>https://www.cnbc.com/2020/06/22/mlb-players-un...</td>\n",
       "      <td>www.cnbc.com</td>\n",
       "    </tr>\n",
       "    <tr>\n",
       "      <th>1</th>\n",
       "      <td>Barstool's Dave Portnoy says he'll focus on sp...</td>\n",
       "      <td>42 Min Ago</td>\n",
       "      <td>https://www.cnbc.com/2020/06/22/mlb-players-un...</td>\n",
       "      <td>www.cnbc.com</td>\n",
       "    </tr>\n",
       "    <tr>\n",
       "      <th>2</th>\n",
       "      <td>Cramer's lightning round: Caterpillar needs an...</td>\n",
       "      <td>46 Min Ago</td>\n",
       "      <td>https://www.cnbc.com/2020/06/22/mlb-players-un...</td>\n",
       "      <td>www.cnbc.com</td>\n",
       "    </tr>\n",
       "    <tr>\n",
       "      <th>3</th>\n",
       "      <td>Google employees petition company to cancel po...</td>\n",
       "      <td>1 Hour Ago</td>\n",
       "      <td>https://www.cnbc.com/2020/06/22/mlb-players-un...</td>\n",
       "      <td>www.cnbc.com</td>\n",
       "    </tr>\n",
       "    <tr>\n",
       "      <th>4</th>\n",
       "      <td>Dow futures rise 100 points following rally in...</td>\n",
       "      <td>2 Hours Ago</td>\n",
       "      <td>https://www.cnbc.com/2020/06/22/mlb-players-un...</td>\n",
       "      <td>www.cnbc.com</td>\n",
       "    </tr>\n",
       "  </tbody>\n",
       "</table>\n",
       "</div>"
      ],
      "text/plain": [
       "                                            Headline    Published  \\\n",
       "0  MLB players union rejects latest league propos...   14 Min Ago   \n",
       "1  Barstool's Dave Portnoy says he'll focus on sp...   42 Min Ago   \n",
       "2  Cramer's lightning round: Caterpillar needs an...   46 Min Ago   \n",
       "3  Google employees petition company to cancel po...   1 Hour Ago   \n",
       "4  Dow futures rise 100 points following rally in...  2 Hours Ago   \n",
       "\n",
       "                                            News URL      Main URL  \n",
       "0  https://www.cnbc.com/2020/06/22/mlb-players-un...  www.cnbc.com  \n",
       "1  https://www.cnbc.com/2020/06/22/mlb-players-un...  www.cnbc.com  \n",
       "2  https://www.cnbc.com/2020/06/22/mlb-players-un...  www.cnbc.com  \n",
       "3  https://www.cnbc.com/2020/06/22/mlb-players-un...  www.cnbc.com  \n",
       "4  https://www.cnbc.com/2020/06/22/mlb-players-un...  www.cnbc.com  "
      ]
     },
     "execution_count": 54,
     "metadata": {},
     "output_type": "execute_result"
    }
   ],
   "source": [
    "df.head()"
   ]
  },
  {
   "cell_type": "code",
   "execution_count": null,
   "metadata": {},
   "outputs": [],
   "source": []
  },
  {
   "cell_type": "code",
   "execution_count": null,
   "metadata": {},
   "outputs": [],
   "source": []
  }
 ],
 "metadata": {
  "kernelspec": {
   "display_name": "Python 3",
   "language": "python",
   "name": "python3"
  },
  "language_info": {
   "codemirror_mode": {
    "name": "ipython",
    "version": 3
   },
   "file_extension": ".py",
   "mimetype": "text/x-python",
   "name": "python",
   "nbconvert_exporter": "python",
   "pygments_lexer": "ipython3",
   "version": "3.7.6"
  }
 },
 "nbformat": 4,
 "nbformat_minor": 4
}
